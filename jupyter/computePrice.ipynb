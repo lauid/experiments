{
 "cells": [
  {
   "cell_type": "code",
   "execution_count": 37,
   "metadata": {},
   "outputs": [
    {
     "name": "stdout",
     "output_type": "stream",
     "text": [
      "330.0857843137255\n"
     ]
    }
   ],
   "source": [
    "def get_fee(weight):\n",
    "    fees = [\n",
    "        {\n",
    "            \"start\": 0,\n",
    "            \"end\": 0.1,\n",
    "            \"yunFee\": 87,\n",
    "            \"guahaoFee\": 20,\n",
    "        },\n",
    "        {\n",
    "            \"start\": 0.1,\n",
    "            \"end\": 0.2,\n",
    "            \"yunFee\": 97,\n",
    "            \"guahaoFee\": 18,\n",
    "        },\n",
    "        {\n",
    "            \"start\": 0.2,\n",
    "            \"end\": 0.45,\n",
    "            \"yunFee\": 95,\n",
    "            \"guahaoFee\": 16,\n",
    "        },\n",
    "        {\n",
    "            \"start\": 0.45,\n",
    "            \"end\": 0.7,\n",
    "            \"yunFee\": 93,\n",
    "            \"guahaoFee\": 16,\n",
    "        },\n",
    "        {\n",
    "            \"start\": 0.7,\n",
    "            \"end\": 2,\n",
    "            \"yunFee\": 93,\n",
    "            \"guahaoFee\": 9,\n",
    "        },\n",
    "        {\n",
    "            \"start\": 2,\n",
    "            \"end\": 30,\n",
    "            \"yunFee\": 85,\n",
    "            \"guahaoFee\": 9,\n",
    "        },\n",
    "    ]\n",
    "    for fee in fees:\n",
    "        if weight > fee[\"start\"] and weight <= fee[\"end\"]:\n",
    "            return fee[\"yunFee\"], fee[\"guahaoFee\"]\n",
    "    \n",
    "    return 0,0\n",
    "\n",
    "def compute_price(original_price: '原价',express_freight: '国内快递费',product_weight: '重量')->float:\n",
    "    \"\"\"\n",
    "    Args:\n",
    "    original_price: 原价\n",
    "    express_freight: 国内快递费\n",
    "    product_weight: 重量\n",
    "    # 采购成本：3.5+8=11.5\n",
    "    # 产品重量：0.06+0.05=0.11\n",
    "    # 国际运费：产品重量0.11x运费97+挂号费18=28.67 x 中转仓1.15=32.97\n",
    "    # 商品定价：采购成本11.5+国际运费32.97+利润30=74.47 ÷ 美国汇率7.2=10.34÷佣金0.85 = 12.16\n",
    "\n",
    "    #原价\n",
    "    # originalPrice = 3.5\n",
    "    #国内快递费\n",
    "    # expressFreight = 11.5\n",
    "    #采购成本\n",
    "    \"\"\"\n",
    "    purchasing_cost = original_price + express_freight\n",
    "\n",
    "    #产品重量\n",
    "    #product_weight = 0.06\n",
    "    weight_fix = 0.05\n",
    "    weight = product_weight + weight_fix\n",
    "    fee = get_fee(weight)\n",
    "    yunfei = fee[0]\n",
    "    guahaofei = fee[1]\n",
    "\n",
    "    if yunfei <= 0 and guahaofei <=0 :\n",
    "        raise ValueError(\"费用异常\")\n",
    "    international_freight = (weight * yunfei + guahaofei)*1.15\n",
    "    last_price =( purchasing_cost + international_freight + 30 )/7.2/0.85\n",
    "    return last_price\n",
    "\n",
    "print(compute_price(3.5,11.5,20.05))"
   ]
  },
  {
   "cell_type": "code",
   "execution_count": 25,
   "metadata": {},
   "outputs": [
    {
     "name": "stdout",
     "output_type": "stream",
     "text": [
      "a,b,c,d,\n"
     ]
    }
   ],
   "source": [
    "\n",
    "strs = '''a\n",
    "b\n",
    "c\n",
    "d\n",
    "'''\n",
    "str1 = strs.replace(\"\\n\", \",\").replace(\" \",\"\")\n",
    "print(str1)"
   ]
  },
  {
   "cell_type": "code",
   "execution_count": 30,
   "metadata": {},
   "outputs": [
    {
     "name": "stdout",
     "output_type": "stream",
     "text": [
      "a dddd  b c d\n"
     ]
    }
   ],
   "source": [
    "strs = \"a,dddd,b c d\" \n",
    "str1 = strs.replace(\"\\n\", \"\").replace(\",\",\" \")\n",
    "print(str1)"
   ]
  }
 ],
 "metadata": {
  "kernelspec": {
   "display_name": "Python 3",
   "language": "python",
   "name": "python3"
  },
  "language_info": {
   "codemirror_mode": {
    "name": "ipython",
    "version": 3
   },
   "file_extension": ".py",
   "mimetype": "text/x-python",
   "name": "python",
   "nbconvert_exporter": "python",
   "pygments_lexer": "ipython3",
   "version": "3.11.0"
  }
 },
 "nbformat": 4,
 "nbformat_minor": 2
}
